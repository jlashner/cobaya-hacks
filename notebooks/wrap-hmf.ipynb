{
 "cells": [
  {
   "cell_type": "code",
   "execution_count": 6,
   "metadata": {},
   "outputs": [
    {
     "name": "stdout",
     "output_type": "stream",
     "text": [
      "The lab_black extension is already loaded. To reload it, use:\n",
      "  %reload_ext lab_black\n"
     ]
    }
   ],
   "source": [
    "%load_ext lab_black"
   ]
  },
  {
   "cell_type": "code",
   "execution_count": 3,
   "metadata": {},
   "outputs": [
    {
     "data": {
      "text/plain": [
       "<matplotlib.legend.Legend at 0x7fda81984a30>"
      ]
     },
     "execution_count": 3,
     "metadata": {},
     "output_type": "execute_result"
    },
    {
     "data": {
      "image/png": "[encoded data removed]",
      "text/plain": [
       "<Figure size 432x288 with 1 Axes>"
      ]
     },
     "metadata": {
      "needs_background": "light"
     },
     "output_type": "display_data"
    }
   ],
   "source": [
    "import hmf\n",
    "import numpy as np\n",
    "import matplotlib.pyplot as pl\n",
    "from hmf.transfer_models import TransferComponent\n",
    "\n",
    "# Create an hmf.MassFunction instance to work with\n",
    "MF1 = hmf.MassFunction()\n",
    "\n",
    "# Hack out the transfer function (will be default from CAMB)\n",
    "k = MF1.k\n",
    "T = MF1.transfer_function\n",
    "\n",
    "\n",
    "class MyTransferModel(TransferComponent):\n",
    "    \"\"\"\n",
    "    My awesome transfer function.\n",
    "    \"\"\"\n",
    "\n",
    "    # Some modulation factor (place-holder for actual parameters).\n",
    "    _defaults = {\"fmod\": 1.0}\n",
    "\n",
    "    def lnt(self, lnk):\n",
    "        \"\"\"\n",
    "        Natural log of the transfer function.\n",
    "\n",
    "        Parameters\n",
    "        ----------\n",
    "        lnk : array_like\n",
    "            Wavenumbers [Mpc/h]\n",
    "\n",
    "        Returns\n",
    "        -------\n",
    "        lnt : array_like\n",
    "            The log of the transfer function at lnk.\n",
    "        \n",
    "        \"\"\"\n",
    "        return np.interp(lnk, np.log(k), np.log(T * self.params[\"fmod\"]))\n",
    "\n",
    "\n",
    "# Put in some made-up modulation factor, fmod, to make sure things are working.\n",
    "transfer_kwargs = {\"fmod\": np.ones_like(k) * (k / 1.0) ** -0.2}\n",
    "\n",
    "MF2 = hmf.MassFunction(\n",
    "    transfer_model=MyTransferModel,\n",
    "    filter_model=hmf.filters.TopHat,\n",
    "    transfer_params=transfer_kwargs,\n",
    ")\n",
    "\n",
    "MF1.update(z=0)\n",
    "MF2.update(z=0)\n",
    "\n",
    "pl.loglog(MF1.m, MF1.dndm, label=r\"default\")\n",
    "pl.loglog(MF2.m, MF2.dndm, label=r\"modified\")\n",
    "pl.legend()"
   ]
  },
  {
   "cell_type": "code",
   "execution_count": 5,
   "metadata": {},
   "outputs": [],
   "source": [
    "import numpy as np\n",
    "from scipy.interpolate import InterpolatedUnivariateSpline as spline\n",
    "\n",
    "import hmf\n",
    "from hmf.transfer_models import TransferComponent\n",
    "from cobaya.theory import Theory\n",
    "from cobaya.likelihood import Likelihood\n",
    "\n",
    "\n",
    "class ExplicitTransferModel(TransferComponent):\n",
    "    def __init__(self, lnt_interpolator):\n",
    "        self.lnt_interpolator = lnt_interpolator\n",
    "\n",
    "    def lnt(self, lnk):\n",
    "        return self.lnt_interpolator(lnk)\n",
    "\n",
    "\n",
    "class HMF(Theory):\n",
    "    def initialize(self):\n",
    "        self.z = np.arange(0, 2, 0.05)\n",
    "        self.k = np.logspace(-4, np.log10(5), 200)\n",
    "        self.lnk = np.log(self.k)\n",
    "        self.filter_model = hmf.filters.TopHat\n",
    "\n",
    "    def initialize_with_provider(self, provider):\n",
    "        \"\"\"\n",
    "        Initialization after other components initialized, using Provider class\n",
    "        instance which is used to return any dependencies.\n",
    "        \"\"\"\n",
    "        self.provider = provider\n",
    "        self.hmf = None\n",
    "\n",
    "    def get_requirements(self):\n",
    "        \"\"\"Things needed from other components\n",
    "        \n",
    "        This is borrowed from SO clusters likelihood.\n",
    "        \n",
    "        Do we need anything else?\n",
    "        \"\"\"\n",
    "        return {\n",
    "            \"CAMB_transfers\": {},\n",
    "            \"Pk_interpolator\": {\n",
    "                \"z\": self.zarr,\n",
    "                \"k_max\": 5.0,\n",
    "                \"nonlinear\": False,\n",
    "                \"hubble_units\": False,  # cobaya told me to\n",
    "                \"k_hunit\": False,  # cobaya told me to\n",
    "                \"vars_pairs\": [[\"delta_nonu\", \"delta_nonu\"]],\n",
    "            },\n",
    "            \"Hubble\": {\"z\": self.zarr},\n",
    "            \"angular_diameter_distance\": {\"z\": self.zarr},\n",
    "        }\n",
    "\n",
    "    def _set_hmf(self):\n",
    "\n",
    "        camb_transfers = self.provider.get_CAMB_transfers()\n",
    "        T = camb_transfers.get_matter_transfer_data().transfer_data\n",
    "        T = np.log(T[[0, 6], :, 0])\n",
    "\n",
    "        if lnk[0] < T[0, 0]:\n",
    "            lnkout, lnT = self._check_low_k(T[0, :], T[1, :], lnk[0])\n",
    "        else:\n",
    "            lnkout = T[0, :]\n",
    "            lnT = T[1, :]\n",
    "\n",
    "        lnt_interpolator = spline(lnkout, lnT, k=1)\n",
    "        transfer_kwargs = {\"lnt_interpolator\": lnt_interpolator}\n",
    "        self.hmf = hmf.MassFunction(\n",
    "            transfer_model=ExplicitTransferModel,\n",
    "            filter_model=hmf.filters.TopHat,\n",
    "            transfer_params=transfer_kwargs,\n",
    "        )        \n",
    "\n",
    "    def get_dn_dm(self, z=0):\n",
    "        self.hmf.update(z=z)\n",
    "        return self.hmf.dndm\n",
    "        \n",
    "    def get_dn_dzdm_interpolator(self):\n",
    "        \"\"\"Object to evaluate dndm at any (z, m)\n",
    "        \"\"\"\n",
    "\n",
    "    def calculate(self, state, want_derived=True, **params_values_dict):\n",
    "        self._set_hmf()\n",
    "        state[\"hmf\"] = ...\n",
    "        state[\"dn_dzdm_interpolator\"] = ...\n",
    "        \n",
    "\n",
    "class DummyLike(Likelihood):\n",
    "    def get_requirements(self):\n",
    "        return {'dn_dm': {}}\n",
    "    \n",
    "    def lnlike(self, **params):\n",
    "        dndm = self.provider.get_dn_dm()\n",
    "        return dndm.sum()\n",
    "    "
   ]
  },
  {
   "cell_type": "code",
   "execution_count": null,
   "metadata": {},
   "outputs": [],
   "source": []
  }
 ],
 "metadata": {
  "kernelspec": {
   "display_name": "Python 3",
   "language": "python",
   "name": "python3"
  },
  "language_info": {
   "codemirror_mode": {
    "name": "ipython",
    "version": 3
   },
   "file_extension": ".py",
   "mimetype": "text/x-python",
   "name": "python",
   "nbconvert_exporter": "python",
   "pygments_lexer": "ipython3",
   "version": "3.8.1"
  }
 },
 "nbformat": 4,
 "nbformat_minor": 4
}
